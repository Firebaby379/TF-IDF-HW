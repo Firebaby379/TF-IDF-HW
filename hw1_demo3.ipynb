{
 "cells": [
  {
   "cell_type": "code",
   "execution_count": 1,
   "metadata": {},
   "outputs": [
    {
     "name": "stdout",
     "output_type": "stream",
     "text": [
      "user: /user/st091465/\n"
     ]
    },
    {
     "data": {
      "text/html": [
       "\n",
       "            <div>\n",
       "                <p><b>SparkSession - in-memory</b></p>\n",
       "                \n",
       "        <div>\n",
       "            <p><b>SparkContext</b></p>\n",
       "\n",
       "            <p><a href=\"/user/st091465/proxy/4040/jobs/\">Spark UI</a></p>\n",
       "\n",
       "            <dl>\n",
       "              <dt>Version</dt>\n",
       "                <dd><code>v3.0.1</code></dd>\n",
       "              <dt>Master</dt>\n",
       "                <dd><code>local[*]</code></dd>\n",
       "              <dt>AppName</dt>\n",
       "                <dd><code>pyspark-shell</code></dd>\n",
       "            </dl>\n",
       "        </div>\n",
       "        \n",
       "            </div>\n",
       "        "
      ],
      "text/plain": [
       "<pyspark.sql.session.SparkSession at 0x7fd164f079d0>"
      ]
     },
     "execution_count": 1,
     "metadata": {},
     "output_type": "execute_result"
    }
   ],
   "source": [
    "import os\n",
    "import json\n",
    "import boto3\n",
    "import sklearn\n",
    "import socket\n",
    "from pyspark import SparkContext, SparkConf\n",
    "from pyspark.sql import SparkSession\n",
    "from pyspark.sql import functions as F\n",
    "\n",
    "\n",
    "print('user:', os.environ['JUPYTERHUB_SERVICE_PREFIX'])\n",
    "\n",
    "def uiWebUrl(self):\n",
    "    from urllib.parse import urlparse\n",
    "    web_url = self._jsc.sc().uiWebUrl().get()\n",
    "    port = urlparse(web_url).port\n",
    "    return \"{}proxy/{}/jobs/\".format(os.environ['JUPYTERHUB_SERVICE_PREFIX'], port)\n",
    "\n",
    "# small fix to enable UI views\n",
    "SparkContext.uiWebUrl = property(uiWebUrl)\n",
    "\n",
    "# spark configurtion in local regime \n",
    "conf = SparkConf().set('spark.master', 'local[*]').set('spark.driver.memory', '8g')\n",
    "\n",
    "#some needed objects\n",
    "sc = SparkContext(conf=conf)\n",
    "spark = SparkSession(sc)\n",
    "spark"
   ]
  },
  {
   "cell_type": "markdown",
   "metadata": {},
   "source": [
    "# Homework 1\n",
    "\n",
    "Transform text file \"The Project Gutenberg eBook of Frankenstein, by Mary Wollstonecraft (Godwin) Shelle\" into TF-IDF. Take row as \"document\".\n",
    "\n",
    "### Part 1: \n",
    "- read text file as dataframe \n",
    "- filter out non-letters and empty strings \n",
    "- transform into dataframe doc_id -> tf_idf vector \n",
    "\n",
    "\n",
    "### Part 2:\n",
    "- read text file as RDD\n",
    "- filter out non-letters and empty strings \n",
    "- transform into rdd in format doc_id -> tf_idf vector\n",
    "\n",
    "\n",
    "### Org part: \n",
    "I'm waiting your HW's as self-sufficient jupyter notebooks in github repository. \n",
    "\n",
    "Please, fill this table in specified comment with:\n",
    "\n",
    "your name / github link / telegram (optionally, if u want to discuss some) / \n",
    "\n",
    "Fill the comment please and i will add your data in a few days\n",
    "\n",
    "https://docs.google.com/spreadsheets/d/1p3yLsXqX2dp_TrPwNcikcS5FP_PTM0_gnSOzGn5Gn1E/edit#gid=0\n",
    "\n",
    "Feel free to text me if u have some questions \n",
    "\n",
    "### Deadline: 05.05.2021 included\n",
    "\n",
    "Dear students, dead in \"deadline\" means *dead*. This deadline is not for you - it's for me. Deadlines informs me from which point i should start to score your HWs.  You can commit anything after deadline but it's not guaranteed that I'll take it into account. It's possible to move deadline only for the whole group not \"just for me plz cause I was ill / detentioned / skipped this message\". \n",
    "\n",
    "### NB(!) \n",
    "\n",
    "It's not allowed to use TF-IDF code from Spark internal libraries. \n",
    "It's not allowed to cast DF/RDD into pandas and use scikit-learn. Please, keep it spark. \n"
   ]
  },
  {
   "cell_type": "markdown",
   "metadata": {},
   "source": [
    "## Part 1\n",
    "\n",
    "Reading text file as DataFrame"
   ]
  },
  {
   "cell_type": "code",
   "execution_count": 2,
   "metadata": {
    "scrolled": true
   },
   "outputs": [
    {
     "name": "stdout",
     "output_type": "stream",
     "text": [
      "+--------------------+-----+\n",
      "|                text|docid|\n",
      "+--------------------+-----+\n",
      "|The Project Guten...|    0|\n",
      "|                    |    1|\n",
      "|This eBook is for...|    2|\n",
      "|most other parts ...|    3|\n",
      "|whatsoever. You m...|    4|\n",
      "|of the Project Gu...|    5|\n",
      "|www.gutenberg.org...|    6|\n",
      "|will have to chec...|    7|\n",
      "|   using this eBook.|    8|\n",
      "|                    |    9|\n",
      "| Title: Frankenstein|   10|\n",
      "|       or, The Mo...|   11|\n",
      "|                    |   12|\n",
      "|Author: Mary Woll...|   13|\n",
      "|                    |   14|\n",
      "|Release Date: 31,...|   15|\n",
      "|[Most recently up...|   16|\n",
      "|                    |   17|\n",
      "|   Language: English|   18|\n",
      "|                    |   19|\n",
      "+--------------------+-----+\n",
      "only showing top 20 rows\n",
      "\n"
     ]
    }
   ],
   "source": [
    "result_prefix = \"malyutin_demo_hw1\"\n",
    "\n",
    "filepath = \"file:///home/jovyan/shared/lectures_folder/84-0.txt\"\n",
    "from pyspark.sql.functions import monotonically_increasing_id\n",
    "\n",
    "dataframe = sc.textFile(f\"{filepath}\")\\\n",
    "    .map(lambda x: (x,))\\\n",
    "    .toDF()\\\n",
    "    .select(F.col(\"_1\").alias(\"text\"))\\\n",
    "    .withColumn(\"docid\", monotonically_increasing_id())\n",
    "\n",
    "dataframe.show()"
   ]
  },
  {
   "cell_type": "code",
   "execution_count": 3,
   "metadata": {
    "scrolled": false
   },
   "outputs": [
    {
     "name": "stdout",
     "output_type": "stream",
     "text": [
      "root\n",
      " |-- text: string (nullable = true)\n",
      " |-- docid: long (nullable = false)\n",
      "\n"
     ]
    }
   ],
   "source": [
    "dataframe.printSchema()"
   ]
  },
  {
   "cell_type": "code",
   "execution_count": 4,
   "metadata": {},
   "outputs": [
    {
     "data": {
      "text/plain": [
       "7743"
      ]
     },
     "execution_count": 4,
     "metadata": {},
     "output_type": "execute_result"
    }
   ],
   "source": [
    "dataframe.count()"
   ]
  },
  {
   "cell_type": "code",
   "execution_count": 5,
   "metadata": {},
   "outputs": [],
   "source": [
    "from pyspark.sql.functions import udf\n",
    "from pyspark.sql.types import ArrayType, StringType\n",
    "import string\n",
    "import re\n",
    "\n",
    "def process_string(data):\n",
    "    \"\"\"\n",
    "    basic preprocessing function:\n",
    "    - removes punctuation\n",
    "    - lower\n",
    "    - split by space\n",
    "    \"\"\"\n",
    "    punct_removed = re.sub(r'[^\\w\\s]','',data)\n",
    "    words = punct_removed.lower().split(\" \")\n",
    "    \n",
    "    \n",
    "    return list(filter(lambda x: len(x) > 0, words))\n",
    "\n",
    "# spark udf -- user defined function (~ mapper)\n",
    "\n",
    "process_string_udf = udf(lambda z: process_string(z), ArrayType(StringType()))"
   ]
  },
  {
   "cell_type": "code",
   "execution_count": 6,
   "metadata": {},
   "outputs": [
    {
     "name": "stdout",
     "output_type": "stream",
     "text": [
      "+--------------------+-----+\n",
      "|            by_words|docid|\n",
      "+--------------------+-----+\n",
      "|[the, project, gu...|    0|\n",
      "|[this, ebook, is,...|    1|\n",
      "|[most, other, par...|    2|\n",
      "|[whatsoever, you,...|    3|\n",
      "|[of, the, project...|    4|\n",
      "|[wwwgutenbergorg,...|    5|\n",
      "|[will, have, to, ...|    6|\n",
      "|[using, this, ebook]|    7|\n",
      "|[title, frankenst...|    8|\n",
      "|[or, the, modern,...|    9|\n",
      "|[author, mary, wo...|   10|\n",
      "|[release, date, 3...|   11|\n",
      "|[most, recently, ...|   12|\n",
      "| [language, english]|   13|\n",
      "|[character, set, ...|   14|\n",
      "|[produced, by, ju...|   15|\n",
      "|[further, correct...|   16|\n",
      "|[start, of, the, ...|   17|\n",
      "|[or, the, modern,...|   18|\n",
      "|[by, mary, wollst...|   19|\n",
      "+--------------------+-----+\n",
      "only showing top 20 rows\n",
      "\n"
     ]
    }
   ],
   "source": [
    "by_words = dataframe\\\n",
    "    .select(process_string_udf(F.col(\"text\")).alias(\"by_words\"))\\\n",
    "    .where(F.size(F.col(\"by_words\")) > 1)\\\n",
    "    .withColumn(\"docid\", monotonically_increasing_id())\n",
    "\n",
    "\n",
    "by_words.show()"
   ]
  },
  {
   "cell_type": "code",
   "execution_count": 7,
   "metadata": {},
   "outputs": [
    {
     "name": "stdout",
     "output_type": "stream",
     "text": [
      "+--------------------+-----+--------------+\n",
      "|            by_words|docid|          word|\n",
      "+--------------------+-----+--------------+\n",
      "|[the, project, gu...|    0|           the|\n",
      "|[the, project, gu...|    0|       project|\n",
      "|[the, project, gu...|    0|     gutenberg|\n",
      "|[the, project, gu...|    0|         ebook|\n",
      "|[the, project, gu...|    0|            of|\n",
      "|[the, project, gu...|    0|  frankenstein|\n",
      "|[the, project, gu...|    0|            by|\n",
      "|[the, project, gu...|    0|          mary|\n",
      "|[the, project, gu...|    0|wollstonecraft|\n",
      "|[the, project, gu...|    0|        godwin|\n",
      "|[the, project, gu...|    0|       shelley|\n",
      "|[this, ebook, is,...|    1|          this|\n",
      "|[this, ebook, is,...|    1|         ebook|\n",
      "|[this, ebook, is,...|    1|            is|\n",
      "|[this, ebook, is,...|    1|           for|\n",
      "|[this, ebook, is,...|    1|           the|\n",
      "|[this, ebook, is,...|    1|           use|\n",
      "|[this, ebook, is,...|    1|            of|\n",
      "|[this, ebook, is,...|    1|        anyone|\n",
      "|[this, ebook, is,...|    1|      anywhere|\n",
      "+--------------------+-----+--------------+\n",
      "only showing top 20 rows\n",
      "\n"
     ]
    }
   ],
   "source": [
    "# Separate word with docid\n",
    "by_words_count = by_words\\\n",
    "     .withColumn('word',(F.explode(F.col(\"by_words\"))))\n",
    "by_words_count.show()"
   ]
  },
  {
   "cell_type": "code",
   "execution_count": 8,
   "metadata": {},
   "outputs": [
    {
     "name": "stdout",
     "output_type": "stream",
     "text": [
      "+-----+--------------+-------------------+\n",
      "|docid|          word|                 tf|\n",
      "+-----+--------------+-------------------+\n",
      "|    0|           the|0.09090909090909091|\n",
      "|    0|wollstonecraft|0.09090909090909091|\n",
      "|    0|       project|0.09090909090909091|\n",
      "|    0|          mary|0.09090909090909091|\n",
      "|    0|        godwin|0.09090909090909091|\n",
      "|    0|         ebook|0.09090909090909091|\n",
      "|    0|  frankenstein|0.09090909090909091|\n",
      "|    0|            by|0.09090909090909091|\n",
      "|    0|     gutenberg|0.09090909090909091|\n",
      "|    0|            of|0.09090909090909091|\n",
      "|    0|       shelley|0.09090909090909091|\n",
      "|    1|        united|0.07142857142857142|\n",
      "|    1|            is|0.07142857142857142|\n",
      "|    1|          this|0.07142857142857142|\n",
      "|    1|        anyone|0.07142857142857142|\n",
      "|    1|           and|0.07142857142857142|\n",
      "|    1|           use|0.07142857142857142|\n",
      "|    1|           for|0.07142857142857142|\n",
      "|    1|           the|0.14285714285714285|\n",
      "|    1|            of|0.07142857142857142|\n",
      "+-----+--------------+-------------------+\n",
      "only showing top 20 rows\n",
      "\n"
     ]
    }
   ],
   "source": [
    "from pyspark.sql.functions import count\n",
    "from pyspark.sql.functions import countDistinct\n",
    "\n",
    "# term frequency\n",
    "by_words_tf = by_words_count.groupBy(\"docid\").agg(F.count(\"word\").alias(\"doc_len\")) \\\n",
    "    .join(by_words_count.groupBy(\"docid\", \"word\")\n",
    "          .agg(F.count(\"by_words\").alias(\"word_count\")), ['docid']) \\\n",
    "    .withColumn(\"tf\", F.col(\"word_count\") / F.col(\"doc_len\")) \\\n",
    "    .drop(\"doc_len\", \"word_count\")\\\n",
    "    .orderBy(F.col(\"docid\"))\n",
    "\n",
    "by_words_tf.show()"
   ]
  },
  {
   "cell_type": "code",
   "execution_count": 9,
   "metadata": {
    "scrolled": true
   },
   "outputs": [
    {
     "name": "stdout",
     "output_type": "stream",
     "text": [
      "+-----+----+\n",
      "| word|  df|\n",
      "+-----+----+\n",
      "|  the|3282|\n",
      "|  and|2702|\n",
      "|   of|2435|\n",
      "|    i|2354|\n",
      "|   to|1896|\n",
      "|   my|1534|\n",
      "|    a|1310|\n",
      "|   in|1126|\n",
      "| that| 971|\n",
      "|  was| 948|\n",
      "|   me| 792|\n",
      "| with| 694|\n",
      "|  but| 681|\n",
      "|  had| 649|\n",
      "|which| 554|\n",
      "|  you| 549|\n",
      "|   he| 545|\n",
      "|   it| 533|\n",
      "|  not| 519|\n",
      "|  for| 505|\n",
      "+-----+----+\n",
      "only showing top 20 rows\n",
      "\n"
     ]
    }
   ],
   "source": [
    "# document frequency\n",
    "by_words_df = by_words_count\\\n",
    "       .groupBy(\"word\")\\\n",
    "       .agg(countDistinct(\"docid\").alias(\"df\"))\\\n",
    "       .orderBy(F.col('df').desc())\n",
    "\n",
    "by_words_df.show()"
   ]
  },
  {
   "cell_type": "code",
   "execution_count": 10,
   "metadata": {},
   "outputs": [
    {
     "data": {
      "text/plain": [
       "6650"
      ]
     },
     "execution_count": 10,
     "metadata": {},
     "output_type": "execute_result"
    }
   ],
   "source": [
    "D = by_words.count()\n",
    "D"
   ]
  },
  {
   "cell_type": "code",
   "execution_count": 11,
   "metadata": {},
   "outputs": [
    {
     "name": "stdout",
     "output_type": "stream",
     "text": [
      "+-----+----+------------------+\n",
      "| word|  df|               idf|\n",
      "+-----+----+------------------+\n",
      "|  the|3282|0.7058592161483073|\n",
      "|  and|2702|0.9002545873734523|\n",
      "|   of|2435|1.0042595048201122|\n",
      "|    i|2354|1.0380761271993817|\n",
      "|   to|1896|1.2543431637148856|\n",
      "|   my|1534|1.4660864736286023|\n",
      "|    a|1310|   1.6238266498862|\n",
      "|   in|1126|1.7750576196101235|\n",
      "| that| 971|1.9230163291894609|\n",
      "|  was| 948| 1.946963335039972|\n",
      "|   me| 792| 2.126548912015052|\n",
      "| with| 694|2.2584602880851077|\n",
      "|  but| 681| 2.277342475806438|\n",
      "|  had| 649| 2.325399770760217|\n",
      "|which| 554|2.4834040199034653|\n",
      "|  you| 549|2.4924538554233835|\n",
      "|   he| 545|2.4997531579049945|\n",
      "|   it| 533| 2.521976294689705|\n",
      "|  not| 519|2.5485433220744267|\n",
      "|  for| 505|2.5758354643624344|\n",
      "+-----+----+------------------+\n",
      "only showing top 20 rows\n",
      "\n"
     ]
    }
   ],
   "source": [
    "import numpy as np\n",
    "\n",
    "# IDF function\n",
    "def calcIDF(df):\n",
    "    IDF = np.log(D/(df+1))\n",
    "    return IDF\n",
    "calcIDF_udf = udf(lambda z: calcIDF(z).tolist())\n",
    "\n",
    "by_words_idf = by_words_df\\\n",
    "       .withColumn('idf', calcIDF_udf(F.col(\"df\")))\n",
    "\n",
    "by_words_idf.show()"
   ]
  },
  {
   "cell_type": "code",
   "execution_count": 12,
   "metadata": {},
   "outputs": [
    {
     "name": "stdout",
     "output_type": "stream",
     "text": [
      "+--------------+-----+-------------------+----+------------------+-------------------+\n",
      "|          word|docid|                 tf|  df|               idf|              tfidf|\n",
      "+--------------+-----+-------------------+----+------------------+-------------------+\n",
      "|     gutenberg|    0|0.09090909090909091|  31| 5.336636230850173|0.48514874825910664|\n",
      "|         ebook|    0|0.09090909090909091|  13| 6.163314804034641| 0.5603013458213311|\n",
      "|wollstonecraft|    0|0.09090909090909091|   3| 7.416077772530009|  0.674188888411819|\n",
      "|        godwin|    0|0.09090909090909091|   3| 7.416077772530009|  0.674188888411819|\n",
      "|          mary|    0|0.09090909090909091|   3| 7.416077772530009|  0.674188888411819|\n",
      "|       project|    0|0.09090909090909091|  88|  4.31373576391776|0.39215779671979634|\n",
      "|            of|    0|0.09090909090909091|2435|1.0042595048201122| 0.0912963186200102|\n",
      "|       shelley|    0|0.09090909090909091|   3| 7.416077772530009|  0.674188888411819|\n",
      "|           the|    0|0.09090909090909091|3282|0.7058592161483073|0.06416901964984612|\n",
      "|            by|    0|0.09090909090909091| 480|2.6265048635441386| 0.2387731694131035|\n",
      "|  frankenstein|    0|0.09090909090909091|  28|5.4350763036634255|0.49409784578758414|\n",
      "|         ebook|    1|0.07142857142857142|  13| 6.163314804034641|0.44023677171676007|\n",
      "|           and|    1|0.07142857142857142|2702|0.9002545873734523|0.06430389909810373|\n",
      "|        states|    1|0.07142857142857142|  20| 5.757849695926477| 0.4112749782804626|\n",
      "|        united|    1|0.07142857142857142|  20| 5.757849695926477| 0.4112749782804626|\n",
      "|            in|    1|0.07142857142857142|1126|1.7750576196101235|0.12678982997215169|\n",
      "|           use|    1|0.07142857142857142|  21| 5.711329680291584| 0.4079521200208274|\n",
      "|            is|    1|0.07142857142857142| 305| 3.078787031697519|0.21991335940696563|\n",
      "|            of|    1|0.07142857142857142|2435|1.0042595048201122|0.07173282177286515|\n",
      "|           the|    1|0.14285714285714285|3282|0.7058592161483073| 0.1008370308783296|\n",
      "|           for|    1|0.07142857142857142| 505|2.5758354643624344|0.18398824745445957|\n",
      "|      anywhere|    1|0.07142857142857142|   2|  7.70375984498179| 0.5502685603558422|\n",
      "|          this|    1|0.07142857142857142| 442| 2.708802363604764|  0.193485883114626|\n",
      "|        anyone|    1|0.07142857142857142|   9| 6.499787040655854| 0.4642705029039896|\n",
      "|          cost|    2|0.07142857142857142|   3| 7.416077772530009| 0.5297198408950007|\n",
      "|         world|    2|0.07142857142857142|  47|4.9311711227420085| 0.3522265087672863|\n",
      "|         other|    2|0.07142857142857142|  91|  4.28058355660086|0.30575596832863283|\n",
      "|           and|    2|0.07142857142857142|2702|0.9002545873734523|0.06430389909810373|\n",
      "|            at|    2|0.07142857142857142| 318|3.0371810308650553| 0.2169415022046468|\n",
      "|            of|    2|0.07142857142857142|2435|1.0042595048201122|0.07173282177286515|\n",
      "+--------------+-----+-------------------+----+------------------+-------------------+\n",
      "only showing top 30 rows\n",
      "\n"
     ]
    }
   ],
   "source": [
    "# TF-IDF\n",
    "by_words_tfidf = by_words_tf.select('docid', 'word', 'tf')\\\n",
    "       .join (by_words_idf, 'word')\\\n",
    "       .orderBy(F.col('docid').asc())\\\n",
    "       .withColumn(\"tfidf\", F.col(\"tf\") * F.col(\"idf\"))\n",
    "\n",
    "by_words_tfidf.show(30)"
   ]
  },
  {
   "cell_type": "code",
   "execution_count": 13,
   "metadata": {},
   "outputs": [
    {
     "name": "stdout",
     "output_type": "stream",
     "text": [
      "+-----+------------------+\n",
      "|docid|      tfidf vector|\n",
      "+-----+------------------+\n",
      "|    0|5.0226997979180545|\n",
      "|    1| 3.646328983255845|\n",
      "|    2|   3.9925193008026|\n",
      "|    3|4.3410905364615715|\n",
      "|    4|  4.09461905923505|\n",
      "|    5| 3.861566679290804|\n",
      "|    6|3.4829231244683445|\n",
      "|    7|5.1983492532031566|\n",
      "|    8| 6.569418074322607|\n",
      "|    9|4.4890881319069535|\n",
      "|   10| 7.304154614942924|\n",
      "|   11| 7.460588236738183|\n",
      "|   12|7.2150904351204765|\n",
      "|   13| 6.128818368291165|\n",
      "|   14| 7.133731785696293|\n",
      "|   15| 6.822051285998794|\n",
      "|   16| 6.781287163200986|\n",
      "|   17| 4.339279942280633|\n",
      "|   18|4.4890881319069535|\n",
      "|   19| 6.458163190732835|\n",
      "+-----+------------------+\n",
      "only showing top 20 rows\n",
      "\n"
     ]
    }
   ],
   "source": [
    "by_words_vector = by_words_tfidf\\\n",
    "       .groupBy(\"docid\").sum(\"tfidf\")\\\n",
    "       .withColumnRenamed(\"sum(tfidf)\", 'tfidf vector')\n",
    "\n",
    "by_words_vector.show()"
   ]
  },
  {
   "cell_type": "code",
   "execution_count": 14,
   "metadata": {
    "scrolled": true
   },
   "outputs": [],
   "source": [
    "by_words_vector.repartition(1)\\\n",
    "    .write.mode(\"overwrite\").csv(f\"df_by_words\")"
   ]
  },
  {
   "cell_type": "markdown",
   "metadata": {},
   "source": [
    "## Part 2\n",
    "\n",
    "Reading text file into RDD"
   ]
  },
  {
   "cell_type": "code",
   "execution_count": 15,
   "metadata": {},
   "outputs": [
    {
     "data": {
      "text/plain": [
       "[(' Letter 2', 40),\n",
       " (' Letter 3', 41),\n",
       " (' Letter 4', 42),\n",
       " (' Chapter 1', 43),\n",
       " (' Chapter 2', 44),\n",
       " (' Chapter 3', 45),\n",
       " (' Chapter 4', 46),\n",
       " (' Chapter 5', 47),\n",
       " (' Chapter 6', 48),\n",
       " (' Chapter 7', 49),\n",
       " ('Inspirited by this wind of promise, my daydreams become more fervent', 90),\n",
       " ('and vivid. I try in vain to be persuaded that the pole is the seat of', 91),\n",
       " ('frost and desolation; it ever presents itself to my imagination as the',\n",
       "  92),\n",
       " ('region of beauty and delight. There, Margaret, the sun is for ever', 93),\n",
       " ('visible, its broad disk just skirting the horizon and diffusing a', 94),\n",
       " ('perpetual splendour. There—for with your leave, my sister, I will put', 95),\n",
       " ('some trust in preceding navigators—there snow and frost are banished;', 96),\n",
       " ('and, sailing over a calm sea, we may be wafted to a land surpassing in',\n",
       "  97),\n",
       " ('wonders and in beauty every region hitherto discovered on the habitable',\n",
       "  98),\n",
       " ('globe. Its productions and features may be without example, as the', 99)]"
      ]
     },
     "execution_count": 15,
     "metadata": {},
     "output_type": "execute_result"
    }
   ],
   "source": [
    "rddText = sc.textFile(f\"{filepath}\").repartition(1).zipWithIndex().repartition(5)\n",
    "\n",
    "rddText.take(20)"
   ]
  },
  {
   "cell_type": "code",
   "execution_count": null,
   "metadata": {},
   "outputs": [],
   "source": []
  }
 ],
 "metadata": {
  "kernelspec": {
   "display_name": "Python 3",
   "language": "python",
   "name": "python3"
  },
  "language_info": {
   "codemirror_mode": {
    "name": "ipython",
    "version": 3
   },
   "file_extension": ".py",
   "mimetype": "text/x-python",
   "name": "python",
   "nbconvert_exporter": "python",
   "pygments_lexer": "ipython3",
   "version": "3.8.6"
  }
 },
 "nbformat": 4,
 "nbformat_minor": 4
}
